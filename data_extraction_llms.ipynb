{
 "cells": [
  {
   "cell_type": "markdown",
   "metadata": {},
   "source": [
    "## Installs"
   ]
  },
  {
   "cell_type": "code",
   "execution_count": null,
   "metadata": {},
   "outputs": [],
   "source": [
    "!pip3 install --upgrade --quiet langchain langchain-community langchain-openai chromadb \n",
    "!pip3 install --upgrade --quiet pypdf pandas streamlit python-dotenv"
   ]
  },
  {
   "cell_type": "markdown",
   "metadata": {},
   "source": [
    "## Imports"
   ]
  },
  {
   "cell_type": "code",
   "execution_count": 21,
   "metadata": {},
   "outputs": [],
   "source": [
    "# Import Langchain modules\n",
    "from langchain.document_loaders import PyPDFLoader\n",
    "from langchain.text_splitter import RecursiveCharacterTextSplitter\n",
    "from langchain_openai import OpenAIEmbeddings, ChatOpenAI\n",
    "from langchain.vectorstores import Chroma\n",
    "from langchain_core.runnables import RunnablePassthrough\n",
    "from langchain_core.prompts import ChatPromptTemplate\n",
    "from pydantic import BaseModel, Field\n",
    "\n",
    "# Other modules and packages\n",
    "import os\n",
    "import tempfile\n",
    "import streamlit as st  \n",
    "import pandas as pd\n",
    "from dotenv import load_dotenv\n",
    "import uuid"
   ]
  },
  {
   "cell_type": "markdown",
   "metadata": {},
   "source": [
    "## Env variables"
   ]
  },
  {
   "cell_type": "code",
   "execution_count": 22,
   "metadata": {},
   "outputs": [],
   "source": [
    "load_dotenv()\n",
    "OPEN_AI_API_KEY = os.environ.get(\"OPEN_AI_API_KEY\")"
   ]
  },
  {
   "cell_type": "markdown",
   "metadata": {},
   "source": [
    "## Process PDF documents"
   ]
  },
  {
   "cell_type": "markdown",
   "metadata": {},
   "source": [
    "### Find and load all PDF documents"
   ]
  },
  {
   "cell_type": "code",
   "execution_count": 23,
   "metadata": {},
   "outputs": [],
   "source": [
    "documents = []\n",
    "\n",
    "# Traverse the directory tree and collect specified file in the ./data folder\n",
    "loader = PyPDFLoader(\"data/Ubisoft_FY25_Q1_Sales_EN_vFinal.pdf\")\n",
    "documents=loader.load()"
   ]
  },
  {
   "cell_type": "markdown",
   "metadata": {},
   "source": [
    "### Split documents"
   ]
  },
  {
   "cell_type": "code",
   "execution_count": 24,
   "metadata": {},
   "outputs": [
    {
     "data": {
      "text/plain": [
       "[Document(metadata={'source': 'data/Ubisoft_FY25_Q1_Sales_EN_vFinal.pdf', 'page': 0}, page_content='1 \\n \\n \\n \\nUBISOFT REPORTS FIRST-QUARTER 2024-25 SALES \\n \\nSolid start to the year with Q1 net bookings ahead of target  \\nRobust engagement metrics driven by our GaaS franchises \\nStrong upcoming release slate with Star Wars Outlaws™ & Assassin’s Creed® Shadows \\n2024-25 targets confirmed \\n \\n \\n \\n \\n▪ Net bookings of €290.0 million, ahead of target of around €275.0 million \\n \\n \\nIn €m \\nQ1 \\n2024-25 \\nReported \\nchange vs. \\nQ1 2023-24 \\n% of total net bookings  \\n Q1  \\n2024-25 \\nQ1  \\n2023-24 \\nIFRS 15 sales 323.5 +12.0% NA NA \\nNet bookings 290.0 +8.3% NA NA \\nDigital net bookings 257.2 +6.6% 88.7% 90.2% \\nPRI net bookings 158.7 +24.6% 54.7% 47.6% \\nBack-catalog net bookings 249.5 +1.5% 86.0% 91.8% \\n \\nParis, July 18, 2024 – Today, Ubisoft released its sales figures for the first quarter of fiscal \\n2024-25, i.e., the three months ended June 30, 2024.  \\n \\n \\n \\n \\nYves Guillemot, Co-Founder and Chief Executive Officer, said “In a selective market, we delivered \\na solid start to the year with net bookings above target, reaffirming that we are on the right track. \\nThe quarter notably saw the launch of XDefiant, that is off to an encouraging start as we continue'),\n",
       " Document(metadata={'source': 'data/Ubisoft_FY25_Q1_Sales_EN_vFinal.pdf', 'page': 0}, page_content='The quarter notably saw the launch of XDefiant, that is off to an encouraging start as we continue \\nto grow the audience at a steady pace and plan a quarterly roadmap of content that will allow us \\nto firmly establish the game over time. We also held Ubisoft Forward, that is always a key event \\nfor our teams and players, during which we showcased content that is very much aligned with \\nour strategic focus on our two key verticals , Open World Adventures and GaaS -native \\nexperiences. The gameplay we presented for our two highly anticipated upcoming premium titles, \\nStar Wars Outlaws and Assassin’s Creed Shadows, was not only praised by players and critics \\nalike but also highlighted the cutting-edge capabilities of our game engines. We also presented a \\nstrong pipeline of content that will continue feeding our Live titles. \\nAs we progress through FY25, all our efforts are focused on successfully launching our promising \\nnew releases and positioning them as long-lasting value drivers for Ubisoft while continuing the \\ntransformation of our organization. We are excited about the future and confident in the sustained \\nprogress of our turnaround throughout the year.”'),\n",
       " Document(metadata={'source': 'data/Ubisoft_FY25_Q1_Sales_EN_vFinal.pdf', 'page': 1}, page_content='2 \\n \\nQ1 ACTIVITY \\n \\nOverall, the quarter was marked by strong session days growth of 15% across Consoles and PC, \\nmostly driven by Games-as-a-Service. MAUs stood at 38 million, up 7% year-on-year.  \\nXDefiant launched its Season 0 on May 21 and is off to an encouraging start. The game , that \\ntopped viewership charts, acquired more than 10 million players within its first two weeks, with \\nplayers praising the thrilling, fast -paced gameplay  and the map variety. Two additional game \\nmodes have been added since launch: Team Death Match (by popular demand) and Capture The \\nFlag. The game outperformed expectations thanks to acquisition and strong average revenue per \\nsession day. Beyond Q1, the launch of Season 1 on July 2 marked the beginning of the quarterly \\nroadmap of content  updates for the game, that will bring additional f actions inspired by iconic \\nUbisoft franchises , maps, weapons and game modes as well as progressively deploy new \\nengagement features.  \\nRainbow Six® Siege kicked off the year with a strong performance, driven by very strong year-\\non-year growth in activity in terms of session days (+34%) and session days per player (+18%),'),\n",
       " Document(metadata={'source': 'data/Ubisoft_FY25_Q1_Sales_EN_vFinal.pdf', 'page': 1}, page_content='on-year growth in activity in terms of session days (+34%) and session days per player (+18%), \\nas well as growth in monetization. This quarter saw Year 9 Season 1 become the highest grossing \\nseason in Siege’s history as well as the full release of the marketplace, that continued to see a \\nsustained level of transactions.  \\nThe Assassin’s Creed® and The Crew® brands reported growth driven by last year’s launches \\ncontribution. Assassin’s Creed overperformed, benefiting from the Assassin’s Creed® Shadows \\nreveal that drove  sales through out the catalog. The Crew ® Motorfest maintained strong \\nmomentum with solid engagement throughout the quarter and both retention and monetization \\ncontinuing to outperform The Crew ® 2 since launch. Skull and Bones ™ Season 2, Chorus of \\nHavoc, was released on May 28, bringing improvements to the end -game formula. Engagement \\nand ARPU continue to  perform well, driven by the new battle pass and an exclusive Hellfest \\nbranded bundle. \\n \\nUBISOFT FORWARD & FY25 RELEASE SLATE \\n \\nThe Ubisoft Forward conference held live from Los Angeles on June 10 showcased content aligned'),\n",
       " Document(metadata={'source': 'data/Ubisoft_FY25_Q1_Sales_EN_vFinal.pdf', 'page': 1}, page_content='The Ubisoft Forward conference held live from Los Angeles on June 10 showcased content aligned \\nwith Ubisoft’s strategic focus on two core verticals: Open World Adventures and GaaS -native \\nexperiences. Gameplay was showcased for Assassin’s Creed Shadows and Star Wars Outlaws™, \\ntwo of the industry’s most anticipated games this year in the Open World Adventure vertical.  \\nStar Wars Outlaws is set to bring an immersive open world experience for the first time to the \\nfranchise. The gameplay showcased during the Ubisoft Forward event notably highlighted the \\nvisual quality enabled by the Snowdrop engine. More recently, Ubisoft held an in-person preview \\nevent for press and content creators with extended hands -on gameplay showcasing the open \\nworld across multiple planets. This, combined with the virtual previews we are currently holding, \\nis the biggest preview event for press and content creators ever held at Ubisoft.  The game has \\ngone gold and is set to release on August 30.  \\nAssassin’s Creed Shadows, the next flagship title in the franchise is set to release on November \\n15 and is the most ambitious Assassin’s Creed yet. It comes  with dual protagonists , a step -'),\n",
       " Document(metadata={'source': 'data/Ubisoft_FY25_Q1_Sales_EN_vFinal.pdf', 'page': 1}, page_content='15 and is the most ambitious Assassin’s Creed yet. It comes  with dual protagonists , a step -\\nchanging innovation for the brand offering  two completely different playstyles and perspectives \\nto the story, providing a deeper immersion and enhanced gameplay variety . The content \\nshowcased also highlighted the dynamic world set in feudal Japan, including the shifting seasons \\nand weather system enabled by the all-new generation of the Anvil engine technology.'),\n",
       " Document(metadata={'source': 'data/Ubisoft_FY25_Q1_Sales_EN_vFinal.pdf', 'page': 2}, page_content='3 \\n \\nAs Ubisoft progresses on expanding its presence in GaaS-native experiences, a strong pipeline of \\ncontent for current Live titles was also presented at Ubisoft Forward. Notably, the Year 2 roadmap \\nfor The Crew Motorfest was announced and met with positive community reception. Ubisoft also \\nteased the Season 3 of Skull and Bones, and revealed the next opus in the Anno ™ franchise, \\nAnno 117™: Pax Romana, designed to be the biggest, most detailed Roman simulation to date, \\nand set to launch in FY2025-26 (calendar year 2025). \\n \\nAPPROVAL OF ALL RESOLUTIONS AT UBISOFT’S ANNUAL GENERAL MEETING \\n \\nUbisoft shareholders approved all resolutions on the agenda of its Annual General Meeting  held \\non July 11 by a very large majority  highlighting the strong confidence of the shareholders in  \\nUbisoft’s strategy. In particular, the shareholders voted for the renewal of Yves Guillemot’s as \\ndirector. As Ubisoft’s founder, Chairman and CEO, Yves Guillemot is globally recognized as one of \\nthe Video Game sector’s leaders. Having successfully steered the company through cycles, he has \\nlaunched early 2023 a comprehensive strategic transformation which has started to  deliver solid'),\n",
       " Document(metadata={'source': 'data/Ubisoft_FY25_Q1_Sales_EN_vFinal.pdf', 'page': 2}, page_content='launched early 2023 a comprehensive strategic transformation which has started to  deliver solid \\nperformances with the group back on a profitable growth trajectory and delivering record annual \\nnet bookings during the last fiscal year. The vote also led to the renewals of Claude Guillemot and \\nGérard Guillemot as  directors as well as of John Parkes as director representing employee \\nshareholders. To note, effective at the end of the 2024 Annual General Meeting, the Audit & Risk \\nCommittee was further reinforced by the addition of Olfa Zorgati, and Fabian Salomon joined the \\nBoard of Directors as director representing employees, replacing Anne Wübbenhorst. Independent \\nmembers account for 55% of the Board’s composition and female representation stands at 55%.'),\n",
       " Document(metadata={'source': 'data/Ubisoft_FY25_Q1_Sales_EN_vFinal.pdf', 'page': 3}, page_content='4 \\n \\nNote  \\nThe Group presents indicators which are not prepared strictly in accordance with IFRS as it considers that they are the \\nbest reflection of its operating and financial performance. The definitions of the non-IFRS indicators are appended to this \\npress release. \\n \\nSales and net bookings \\n \\nIn € millions Q1  \\n2024-25 \\nQ1  \\n2023-24  \\nSales (IFRS 15) 323.5 288.9  \\nRestatements related to IFRS 15 (33.5) (21.2)  \\nNet bookings 290.0 267.7  \\n \\nIFRS 15 sales for the first quarter of 202 4-25 came to € 323.5 million, up 12.0% ( 11.4% at \\nconstant exchange rates1) compared with the €288.9 million generated in first-quarter 2023-24. \\n \\nFirst-quarter 202 4-25 net bookings totaled €290.0 million, exceeding the target of around \\n€275.0 million and up 8.3% (7.8% at constant exchange rates) on the €267.7 million figure for \\nthe first quarter of 2023-24. \\n \\n \\nOutlook \\n \\nSecond-quarter 2024-25 \\n \\nNet bookings for the second quarter of 2024-25 are expected to come in at around €500 million.  \\n \\nFull-year 2024-25 \\n \\nThe line -up for the rest of FY25 includes Assassin’s Creed Shadows and Star Wars Outlaws.'),\n",
       " Document(metadata={'source': 'data/Ubisoft_FY25_Q1_Sales_EN_vFinal.pdf', 'page': 3}, page_content='Full-year 2024-25 \\n \\nThe line -up for the rest of FY25 includes Assassin’s Creed Shadows and Star Wars Outlaws. \\nRainbow Six® Mobile and The Division® Resurgence are no longer expected in FY25 as the teams \\nare taking the necessary time to ensure that these experiences deliver on expectations with \\noptimized KPIs in the context of a demanding yet very large market.  \\n \\nThe Company confirms its financial targets. It expects solid net bookings growth, a slight increase \\nin non -IFRS operating income and growing non -IFRS Cash Flow from Operations leading to \\npositive Free Cash Flow. \\n \\n \\n \\n \\n \\n \\n \\n \\n  \\n \\n1 Sales at constant exchange rates are calculated by applying to the data for the period under review the average exchange rate s used for \\nthe same period of the previous fiscal year.'),\n",
       " Document(metadata={'source': 'data/Ubisoft_FY25_Q1_Sales_EN_vFinal.pdf', 'page': 4}, page_content='5 \\n \\n \\n \\nConference call \\n \\nUbisoft will hold a conference call today, Thursday July 18, 202 4, at 6:15 p.m. Paris time/5:15 p.m. London \\ntime/12:15 p.m. New York time.  \\nThe conference call will take place in English and can be accessed live and via replay by clicking on the following link:  \\nhttps://edge.media-server.com/mmc/p/atyzrozr/ \\n \\n \\nContacts \\nInvestor Relations \\nAlexandre Enjalbert  \\nHead of Investor Relations \\n+33 1 48 18 50 78  \\nAlexandre.enjalbert@ubisoft.com  \\n \\nPress Relations  \\nMichael Burk  \\nVP, Corporate Communications \\nMichael.burk@ubisoft.com  \\n \\n \\n \\n \\n \\nDisclaimer \\nThis press release may contain estimated financial data, information on future projects and transactions and future \\nfinancial results/performance. Such forward-looking data are provided for information purposes only. They are subject to \\nmarket risks and un certainties and may vary significantly compared with the actual results that will be published. The \\nestimated financial data have been approved by the Board of Directors, and have not been audited by the Statutory \\nAuditors. (Additional information is provided in the most recent Ubisoft Registration Document filed on June 20, 2024 with'),\n",
       " Document(metadata={'source': 'data/Ubisoft_FY25_Q1_Sales_EN_vFinal.pdf', 'page': 4}, page_content='the French Financial Markets Authority (l’Autorité des Marchés Financiers)). \\n \\n \\nAbout Ubisoft \\nUbisoft is a creator of worlds, committed to enriching players’ lives with original and memorable entertainment \\nexperiences. Ubisoft’s global teams create and develop a deep and diverse portfolio of games, featuring brands such as \\nAssassin’s Creed®, Brawlhalla®, For Honor®, Far Cry®, Tom Clancy’s Ghost Recon®, Just Dance®, Rabbids®, Tom Clancy’s \\nRainbow Six®, The Crew® and Tom Clancy’s The Division®. Through Ubisoft Connect, players can enjoy an ecosystem of \\nservices to enhance their gaming experience, get rewards and connect with friends across platforms. With Ubisoft+, the \\nsubscription service, they can access a growing catalog of more than 100 Ubisoft games and DLC. For the 2023–24 fiscal \\nyear, Ubisoft generated net bookings of €2.32 billion. To learn more, please visit: www.ubisoftgroup.com. \\n \\n \\n© 2024 Ubisoft Entertainment. All Rights Reserved. Ubisoft and the Ubisoft logo are registered trademarks in the US and/or other countries.'),\n",
       " Document(metadata={'source': 'data/Ubisoft_FY25_Q1_Sales_EN_vFinal.pdf', 'page': 5}, page_content='6 \\n \\nAPPENDICES \\n \\nDefinition of non-IFRS financial indicators \\n \\nNet bookings corresponds to sales restated for the services component, including unconditional amounts related to license \\nor distribution agreements recognized independently of the achievement of performance obligations, and restated for the \\nfinancing component. \\n \\nPlayer Recurring Investment (PRI)  corresponds to sales of digital items, DLC, season passes, subscriptions and \\nadvertising.  \\n \\nNon-IFRS operating income calculated based on net bookings corresponds to operating income less the following items:  \\n- Stock-based compensation expense arising on free share plans, group savings plans and/or stock options.  \\n- Depreciation of acquired intangible assets with indefinite useful lives.  \\n- Non-operating income and expenses resulting from restructuring operations within the Group.'),\n",
       " Document(metadata={'source': 'data/Ubisoft_FY25_Q1_Sales_EN_vFinal.pdf', 'page': 6}, page_content='7 \\n \\n \\nBreakdown of net bookings by geographic region \\n \\n \\n Q1 2024-25  Q1 2023-24  \\nEurope 32% 33% \\nNorth America 53% 51% \\nRest of the world \\n \\n15% 16% \\nTOTAL 100% 100% \\n \\n \\n \\n \\nBreakdown of net bookings by platform \\n \\n Q1 2024-25  Q1 2023-24  \\nCONSOLES 50% 50% \\nPC 27% 31% \\nMOBILE 10% 10% \\nOthers* \\n \\n13% 9% \\nTOTAL 100% 100% \\n \\n \\n*Ancillaries, etc.'),\n",
       " Document(metadata={'source': 'data/Ubisoft_FY25_Q1_Sales_EN_vFinal.pdf', 'page': 7}, page_content='8 \\n \\nTitle release schedule \\n2nd quarter (July – September 2024) \\n \\n \\n \\nDIGITAL + PHYSICAL \\n          \\n  \\nMONOPOLY® 2024 AMAZON LUNA, NINTENDO SWITCH, PC, PLAYSTATION 4,  \\nPLAYSTATION 5, XBOX ONE, XBOX SERIES X/S \\nSTAR WARS OUTLAWS™ AMAZON LUNA, PC,  \\nPLAYSTATION® 5, XBOX SERIES X/S \\n \\n \\nDIGITAL ONLY \\n          \\n  \\nAVATAR: FRONTIERS OF PANDORA™: THE SKY BREAKER Story Pack AMAZON LUNA, PC, PLAYSTATION 5, XBOX SERIES X/S \\nFOR HONOR®: Year 8 Season 3 PC, PLAYSTATION 4, XBOX ONE \\nRIDERS REPUBLIC™: Season 12 AMAZON LUNA, PC, PLAYSTATION 4, PLAYSTATION 5, \\nXBOX ONE, XBOX SERIES X/S \\nTHE CREW® MOTORFEST: Season 4 AMAZON LUNA, PC, PLAYSTATION 4, PLAYSTATION 5, \\nXBOX ONE, XBOX SERIES X/S \\nPRINCE OF PERSIA™: THE LOST CROWN Mask of Darkness DLC AMAZON LUNA, PC, PLAYSTATION 4, PLAYSTATION 5, \\nXBOX ONE, XBOX SERIES X/S \\nSKULL AND BONES™: Season 3 AMAZON LUNA, PC, PLAYSTATION 5, XBOX SERIES X/S \\nTOM CLANCY’S RAINBOW SIX® SIEGE: Year 9 - Season 3 AMAZON LUNA, PC, PLAYSTATION 4, PLAYSTATION 5, \\nXBOX ONE, XBOX SERIES X/S \\nUNO® PARTY! MANIA AMAZON LUNA, PC, PLAYSTATION 4, PLAYSTATION 5, \\nXBOX ONE, XBOX SERIES X/S \\nXDEFIANT: Season 1 AMAZON LUNA, PC, PLAYSTATION 5, XBOX SERIES X/S')]"
      ]
     },
     "execution_count": 24,
     "metadata": {},
     "output_type": "execute_result"
    }
   ],
   "source": [
    "# Split the documents into smaller chunks\n",
    "text_splitter = RecursiveCharacterTextSplitter(chunk_size=1200, \n",
    "                                               chunk_overlap=120, \n",
    "                                               length_function=len, \n",
    "                                               separators=[\"\\n\\n\", \"\\n\", \" \"])\n",
    "\n",
    "documents = text_splitter.split_documents(documents)\n",
    "documents"
   ]
  },
  {
   "cell_type": "markdown",
   "metadata": {},
   "source": [
    "### Define embedding function"
   ]
  },
  {
   "cell_type": "code",
   "execution_count": 25,
   "metadata": {},
   "outputs": [],
   "source": [
    "# Use embedding function from OpenAI\n",
    "embedding_function = embeddings = OpenAIEmbeddings(\n",
    "        model=\"text-embedding-ada-002\", openai_api_key=OPEN_AI_API_KEY\n",
    "    )"
   ]
  },
  {
   "cell_type": "markdown",
   "metadata": {},
   "source": [
    "## Create and populate vector database"
   ]
  },
  {
   "cell_type": "code",
   "execution_count": 26,
   "metadata": {},
   "outputs": [],
   "source": [
    "def create_vectorstore(documents, embedding_function, vectorstore_path):\n",
    "\n",
    "    # Create a list of unique ids for each document based on the content\n",
    "    ids = [str(uuid.uuid5(uuid.NAMESPACE_DNS, doc.page_content)) for doc in documents]\n",
    "    \n",
    "    # Ensure that only unique docs with unique ids are kept\n",
    "    unique_ids = set()\n",
    "    unique_documents = []\n",
    "    \n",
    "    for doc, id in zip(documents, ids):     \n",
    "        if id not in unique_ids:       \n",
    "            unique_ids.add(id)\n",
    "            unique_documents.append(doc) \n",
    "\n",
    "    # Create a new Chroma database from the unique_documents\n",
    "    chromaDB = Chroma.from_documents(documents=unique_documents, \n",
    "                                        ids=list(unique_ids),\n",
    "                                        embedding=embedding_function, \n",
    "                                        persist_directory = vectorstore_path)\n",
    "\n",
    "    chromaDB.persist()\n",
    "    \n",
    "    return chromaDB"
   ]
  },
  {
   "cell_type": "code",
   "execution_count": 27,
   "metadata": {},
   "outputs": [],
   "source": [
    "# Create vectorstore\n",
    "vectorstore = create_vectorstore(documents=documents, \n",
    "                                 embedding_function=embedding_function, \n",
    "                                 vectorstore_path=\"vectorstore\")"
   ]
  },
  {
   "cell_type": "markdown",
   "metadata": {},
   "source": [
    "## Query for relevant data"
   ]
  },
  {
   "cell_type": "code",
   "execution_count": 28,
   "metadata": {},
   "outputs": [],
   "source": [
    "# Load vectorstore\n",
    "vectorstore = Chroma(persist_directory=\"vectorstore_test\", \n",
    "                     embedding_function=embedding_function)"
   ]
  },
  {
   "cell_type": "code",
   "execution_count": 29,
   "metadata": {},
   "outputs": [
    {
     "data": {
      "text/plain": [
       "[Document(metadata={'page': 3, 'source': 'data/Ubisoft_FY25_Q1_Sales_EN_vFinal.pdf'}, page_content='Full-year 2024-25 \\n \\nThe line -up for the rest of FY25 includes Assassin’s Creed Shadows and Star Wars Outlaws. \\nRainbow Six® Mobile and The Division® Resurgence are no longer expected in FY25 as the teams \\nare taking the necessary time to ensure that these experiences deliver on expectations with \\noptimized KPIs in the context of a demanding yet very large market.  \\n \\nThe Company confirms its financial targets. It expects solid net bookings growth, a slight increase \\nin non -IFRS operating income and growing non -IFRS Cash Flow from Operations leading to \\npositive Free Cash Flow. \\n \\n \\n \\n \\n \\n \\n \\n \\n  \\n \\n1 Sales at constant exchange rates are calculated by applying to the data for the period under review the average exchange rate s used for \\nthe same period of the previous fiscal year.'),\n",
       " Document(metadata={'page': 3, 'source': 'data/Ubisoft_FY25_Q1_Sales_EN_vFinal.pdf'}, page_content='4 \\n \\nNote  \\nThe Group presents indicators which are not prepared strictly in accordance with IFRS as it considers that they are the \\nbest reflection of its operating and financial performance. The definitions of the non-IFRS indicators are appended to this \\npress release. \\n \\nSales and net bookings \\n \\nIn € millions Q1  \\n2024-25 \\nQ1  \\n2023-24  \\nSales (IFRS 15) 323.5 288.9  \\nRestatements related to IFRS 15 (33.5) (21.2)  \\nNet bookings 290.0 267.7  \\n \\nIFRS 15 sales for the first quarter of 202 4-25 came to € 323.5 million, up 12.0% ( 11.4% at \\nconstant exchange rates1) compared with the €288.9 million generated in first-quarter 2023-24. \\n \\nFirst-quarter 202 4-25 net bookings totaled €290.0 million, exceeding the target of around \\n€275.0 million and up 8.3% (7.8% at constant exchange rates) on the €267.7 million figure for \\nthe first quarter of 2023-24. \\n \\n \\nOutlook \\n \\nSecond-quarter 2024-25 \\n \\nNet bookings for the second quarter of 2024-25 are expected to come in at around €500 million.  \\n \\nFull-year 2024-25 \\n \\nThe line -up for the rest of FY25 includes Assassin’s Creed Shadows and Star Wars Outlaws.'),\n",
       " Document(metadata={'page': 0, 'source': 'data/Ubisoft_FY25_Q1_Sales_EN_vFinal.pdf'}, page_content='1 \\n \\n \\n \\nUBISOFT REPORTS FIRST-QUARTER 2024-25 SALES \\n \\nSolid start to the year with Q1 net bookings ahead of target  \\nRobust engagement metrics driven by our GaaS franchises \\nStrong upcoming release slate with Star Wars Outlaws™ & Assassin’s Creed® Shadows \\n2024-25 targets confirmed \\n \\n \\n \\n \\n▪ Net bookings of €290.0 million, ahead of target of around €275.0 million \\n \\n \\nIn €m \\nQ1 \\n2024-25 \\nReported \\nchange vs. \\nQ1 2023-24 \\n% of total net bookings  \\n Q1  \\n2024-25 \\nQ1  \\n2023-24 \\nIFRS 15 sales 323.5 +12.0% NA NA \\nNet bookings 290.0 +8.3% NA NA \\nDigital net bookings 257.2 +6.6% 88.7% 90.2% \\nPRI net bookings 158.7 +24.6% 54.7% 47.6% \\nBack-catalog net bookings 249.5 +1.5% 86.0% 91.8% \\n \\nParis, July 18, 2024 – Today, Ubisoft released its sales figures for the first quarter of fiscal \\n2024-25, i.e., the three months ended June 30, 2024.  \\n \\n \\n \\n \\nYves Guillemot, Co-Founder and Chief Executive Officer, said “In a selective market, we delivered \\na solid start to the year with net bookings above target, reaffirming that we are on the right track. \\nThe quarter notably saw the launch of XDefiant, that is off to an encouraging start as we continue'),\n",
       " Document(metadata={'page': 0, 'source': 'data/Ubisoft_FY25_Q1_Sales_EN_vFinal.pdf'}, page_content='The quarter notably saw the launch of XDefiant, that is off to an encouraging start as we continue \\nto grow the audience at a steady pace and plan a quarterly roadmap of content that will allow us \\nto firmly establish the game over time. We also held Ubisoft Forward, that is always a key event \\nfor our teams and players, during which we showcased content that is very much aligned with \\nour strategic focus on our two key verticals , Open World Adventures and GaaS -native \\nexperiences. The gameplay we presented for our two highly anticipated upcoming premium titles, \\nStar Wars Outlaws and Assassin’s Creed Shadows, was not only praised by players and critics \\nalike but also highlighted the cutting-edge capabilities of our game engines. We also presented a \\nstrong pipeline of content that will continue feeding our Live titles. \\nAs we progress through FY25, all our efforts are focused on successfully launching our promising \\nnew releases and positioning them as long-lasting value drivers for Ubisoft while continuing the \\ntransformation of our organization. We are excited about the future and confident in the sustained \\nprogress of our turnaround throughout the year.”')]"
      ]
     },
     "execution_count": 29,
     "metadata": {},
     "output_type": "execute_result"
    }
   ],
   "source": [
    "# Create retriever and get relevant chunks\n",
    "retriever = vectorstore.as_retriever(search_type=\"similarity\")\n",
    "\n",
    "question = \"What is the title of this fiscal year (FY) quarter (Q) result report?\"\n",
    "\n",
    "relevant_chunks = retriever.invoke(question)\n",
    "relevant_chunks"
   ]
  },
  {
   "cell_type": "markdown",
   "metadata": {},
   "source": [
    "## Generate structured responses"
   ]
  },
  {
   "cell_type": "markdown",
   "metadata": {},
   "source": [
    "### Set LLM"
   ]
  },
  {
   "cell_type": "code",
   "execution_count": 30,
   "metadata": {},
   "outputs": [],
   "source": [
    "# Set LLM\n",
    "llm = ChatOpenAI(model=\"gpt-4o-mini\", api_key=OPEN_AI_API_KEY)"
   ]
  },
  {
   "cell_type": "markdown",
   "metadata": {},
   "source": [
    "### Set prompt template"
   ]
  },
  {
   "cell_type": "code",
   "execution_count": 31,
   "metadata": {},
   "outputs": [],
   "source": [
    "# Prompt template\n",
    "PROMPT_TEMPLATE = \"\"\"\n",
    "You are an assistant for question-answering tasks.\n",
    "Use the following pieces of retrieved context to answer\n",
    "the question. If you don't know the answer, say that you\n",
    "don't know. DON'T MAKE UP ANYTHING.\n",
    "\n",
    "{context}\n",
    "\n",
    "---\n",
    "\n",
    "Answer the question based on the above context: {question}\n",
    "\n",
    "Additionally, if found in the context, provide the following:\n",
    "- Revenue and Earnings: Assess year-over-year (YoY) or quarter-over-quarter (QoQ) growth.\n",
    "- Profit Margins: Review operating and net profit margins for efficiency.\n",
    "- Expenses: Compare R&D, marketing, and operating costs to previous periods.\n",
    "- Cash Flow: Check operational cash flow for liquidity and sustainability.\n",
    "- Balance Sheet: Analyze assets, liabilities, and equity for financial health.\n",
    "- Forward Guidance: Look for management's projections or economic outlook.\n",
    "- Key Metrics: Industry-specific data (e.g., customer growth, product sales).\n",
    "- Trends: Spot patterns or anomalies over time.\n",
    "\"\"\""
   ]
  },
  {
   "cell_type": "code",
   "execution_count": 32,
   "metadata": {},
   "outputs": [
    {
     "name": "stdout",
     "output_type": "stream",
     "text": [
      "Human: \n",
      "You are an assistant for question-answering tasks.\n",
      "Use the following pieces of retrieved context to answer\n",
      "the question. If you don't know the answer, say that you\n",
      "don't know. DON'T MAKE UP ANYTHING.\n",
      "\n",
      "Page 3:\n",
      "Full-year 2024-25 \n",
      " \n",
      "The line -up for the rest of FY25 includes Assassin’s Creed Shadows and Star Wars Outlaws. \n",
      "Rainbow Six® Mobile and The Division® Resurgence are no longer expected in FY25 as the teams \n",
      "are taking the necessary time to ensure that these experiences deliver on expectations with \n",
      "optimized KPIs in the context of a demanding yet very large market.  \n",
      " \n",
      "The Company confirms its financial targets. It expects solid net bookings growth, a slight increase \n",
      "in non -IFRS operating income and growing non -IFRS Cash Flow from Operations leading to \n",
      "positive Free Cash Flow. \n",
      " \n",
      " \n",
      " \n",
      " \n",
      " \n",
      " \n",
      " \n",
      " \n",
      "  \n",
      " \n",
      "1 Sales at constant exchange rates are calculated by applying to the data for the period under review the average exchange rate s used for \n",
      "the same period of the previous fiscal year.\n",
      "\n",
      "---\n",
      "\n",
      "Page 3:\n",
      "4 \n",
      " \n",
      "Note  \n",
      "The Group presents indicators which are not prepared strictly in accordance with IFRS as it considers that they are the \n",
      "best reflection of its operating and financial performance. The definitions of the non-IFRS indicators are appended to this \n",
      "press release. \n",
      " \n",
      "Sales and net bookings \n",
      " \n",
      "In € millions Q1  \n",
      "2024-25 \n",
      "Q1  \n",
      "2023-24  \n",
      "Sales (IFRS 15) 323.5 288.9  \n",
      "Restatements related to IFRS 15 (33.5) (21.2)  \n",
      "Net bookings 290.0 267.7  \n",
      " \n",
      "IFRS 15 sales for the first quarter of 202 4-25 came to € 323.5 million, up 12.0% ( 11.4% at \n",
      "constant exchange rates1) compared with the €288.9 million generated in first-quarter 2023-24. \n",
      " \n",
      "First-quarter 202 4-25 net bookings totaled €290.0 million, exceeding the target of around \n",
      "€275.0 million and up 8.3% (7.8% at constant exchange rates) on the €267.7 million figure for \n",
      "the first quarter of 2023-24. \n",
      " \n",
      " \n",
      "Outlook \n",
      " \n",
      "Second-quarter 2024-25 \n",
      " \n",
      "Net bookings for the second quarter of 2024-25 are expected to come in at around €500 million.  \n",
      " \n",
      "Full-year 2024-25 \n",
      " \n",
      "The line -up for the rest of FY25 includes Assassin’s Creed Shadows and Star Wars Outlaws.\n",
      "\n",
      "---\n",
      "\n",
      "Page 0:\n",
      "1 \n",
      " \n",
      " \n",
      " \n",
      "UBISOFT REPORTS FIRST-QUARTER 2024-25 SALES \n",
      " \n",
      "Solid start to the year with Q1 net bookings ahead of target  \n",
      "Robust engagement metrics driven by our GaaS franchises \n",
      "Strong upcoming release slate with Star Wars Outlaws™ & Assassin’s Creed® Shadows \n",
      "2024-25 targets confirmed \n",
      " \n",
      " \n",
      " \n",
      " \n",
      "▪ Net bookings of €290.0 million, ahead of target of around €275.0 million \n",
      " \n",
      " \n",
      "In €m \n",
      "Q1 \n",
      "2024-25 \n",
      "Reported \n",
      "change vs. \n",
      "Q1 2023-24 \n",
      "% of total net bookings  \n",
      " Q1  \n",
      "2024-25 \n",
      "Q1  \n",
      "2023-24 \n",
      "IFRS 15 sales 323.5 +12.0% NA NA \n",
      "Net bookings 290.0 +8.3% NA NA \n",
      "Digital net bookings 257.2 +6.6% 88.7% 90.2% \n",
      "PRI net bookings 158.7 +24.6% 54.7% 47.6% \n",
      "Back-catalog net bookings 249.5 +1.5% 86.0% 91.8% \n",
      " \n",
      "Paris, July 18, 2024 – Today, Ubisoft released its sales figures for the first quarter of fiscal \n",
      "2024-25, i.e., the three months ended June 30, 2024.  \n",
      " \n",
      " \n",
      " \n",
      " \n",
      "Yves Guillemot, Co-Founder and Chief Executive Officer, said “In a selective market, we delivered \n",
      "a solid start to the year with net bookings above target, reaffirming that we are on the right track. \n",
      "The quarter notably saw the launch of XDefiant, that is off to an encouraging start as we continue\n",
      "\n",
      "---\n",
      "\n",
      "Page 0:\n",
      "The quarter notably saw the launch of XDefiant, that is off to an encouraging start as we continue \n",
      "to grow the audience at a steady pace and plan a quarterly roadmap of content that will allow us \n",
      "to firmly establish the game over time. We also held Ubisoft Forward, that is always a key event \n",
      "for our teams and players, during which we showcased content that is very much aligned with \n",
      "our strategic focus on our two key verticals , Open World Adventures and GaaS -native \n",
      "experiences. The gameplay we presented for our two highly anticipated upcoming premium titles, \n",
      "Star Wars Outlaws and Assassin’s Creed Shadows, was not only praised by players and critics \n",
      "alike but also highlighted the cutting-edge capabilities of our game engines. We also presented a \n",
      "strong pipeline of content that will continue feeding our Live titles. \n",
      "As we progress through FY25, all our efforts are focused on successfully launching our promising \n",
      "new releases and positioning them as long-lasting value drivers for Ubisoft while continuing the \n",
      "transformation of our organization. We are excited about the future and confident in the sustained \n",
      "progress of our turnaround throughout the year.”\n",
      "\n",
      "---\n",
      "\n",
      "Answer the question based on the above context: What is the title of this fiscal year (FY) quarter (Q) result report?\n",
      "\n",
      "Additionally, if found in the context, provide the following:\n",
      "- Revenue and Earnings: Assess year-over-year (YoY) or quarter-over-quarter (QoQ) growth.\n",
      "- Profit Margins: Review operating and net profit margins for efficiency.\n",
      "- Expenses: Compare R&D, marketing, and operating costs to previous periods.\n",
      "- Cash Flow: Check operational cash flow for liquidity and sustainability.\n",
      "- Balance Sheet: Analyze assets, liabilities, and equity for financial health.\n",
      "- Forward Guidance: Look for management's projections or economic outlook.\n",
      "- Key Metrics: Industry-specific data (e.g., customer growth, product sales).\n",
      "- Trends: Spot patterns or anomalies over time.\n",
      "\n"
     ]
    }
   ],
   "source": [
    "# Concatenate context text\n",
    "context_text = \"\\n\\n---\\n\\n\".join(\n",
    "    [f\"Page {doc.metadata['page']}:\\n{doc.page_content}\" for doc in relevant_chunks]\n",
    ")\n",
    "\n",
    "# Create prompt\n",
    "prompt_template = ChatPromptTemplate.from_template(PROMPT_TEMPLATE)\n",
    "\n",
    "prompt = prompt_template.format(context=context_text, question=question)\n",
    "print(prompt)"
   ]
  },
  {
   "cell_type": "markdown",
   "metadata": {},
   "source": [
    "### Create model for reponse"
   ]
  },
  {
   "cell_type": "code",
   "execution_count": 33,
   "metadata": {},
   "outputs": [],
   "source": [
    "class AnswerWithSources(BaseModel):\n",
    "    \"\"\"An answer to the question, with sources and reasoning\"\"\"\n",
    "    answer: str = Field(description=\"Answer to question\")\n",
    "    sources: str = Field(description=\"Full direct text chunk from the context used to answer the question\")\n",
    "    reasoning: str = Field(description=\"Explain the reasoning of the answer based on the sources\")\n",
    "    \n",
    "class ExtractedInfo(BaseModel):\n",
    "    \"\"\"Extracted information about the report\"\"\"\n",
    "    report_company_name: AnswerWithSources\n",
    "    report_summary: AnswerWithSources\n",
    "    revenue_and_earnings: AnswerWithSources\n",
    "    profit_margins: AnswerWithSources\n",
    "    expenses: AnswerWithSources\n",
    "    cash_flow: AnswerWithSources\n",
    "    balance_sheet: AnswerWithSources\n",
    "    forward_guidance: AnswerWithSources\n",
    "    key_metrics: AnswerWithSources\n",
    "    trends: AnswerWithSources"
   ]
  },
  {
   "cell_type": "markdown",
   "metadata": {},
   "source": [
    "### Invoke"
   ]
  },
  {
   "cell_type": "code",
   "execution_count": 34,
   "metadata": {},
   "outputs": [],
   "source": [
    "# Using Langchain Expression Language\n",
    "def format_docs(docs):\n",
    "    return \"\\n\\n---\\n\\n\".join(\n",
    "    [f\"Page {doc.metadata['page']}:\\n{doc.page_content}\" for doc in relevant_chunks]\n",
    ")\n",
    "\n",
    "rag_chain = (\n",
    "            {\"context\": retriever | format_docs, \"question\": RunnablePassthrough()}\n",
    "            | prompt_template\n",
    "            | llm.with_structured_output(ExtractedInfo, strict=True)\n",
    "        )\n",
    "\n",
    "structured_response = rag_chain.invoke(\"Give me the company name, summary, and details about revenue, profit margins, expenses, cash flow, balance sheet, forward guidance, key metrics, and trends from the fiscal year (FY) quarter (Q) result report.\")"
   ]
  },
  {
   "cell_type": "markdown",
   "metadata": {},
   "source": [
    "## Transform response into a dataframe"
   ]
  },
  {
   "cell_type": "code",
   "execution_count": 35,
   "metadata": {},
   "outputs": [
    {
     "data": {
      "text/html": [
       "<div>\n",
       "<style scoped>\n",
       "    .dataframe tbody tr th:only-of-type {\n",
       "        vertical-align: middle;\n",
       "    }\n",
       "\n",
       "    .dataframe tbody tr th {\n",
       "        vertical-align: top;\n",
       "    }\n",
       "\n",
       "    .dataframe thead th {\n",
       "        text-align: right;\n",
       "    }\n",
       "</style>\n",
       "<table border=\"1\" class=\"dataframe\">\n",
       "  <thead>\n",
       "    <tr style=\"text-align: right;\">\n",
       "      <th></th>\n",
       "      <th>report_company_name</th>\n",
       "      <th>report_summary</th>\n",
       "      <th>revenue_and_earnings</th>\n",
       "      <th>profit_margins</th>\n",
       "      <th>expenses</th>\n",
       "      <th>cash_flow</th>\n",
       "      <th>balance_sheet</th>\n",
       "      <th>forward_guidance</th>\n",
       "      <th>key_metrics</th>\n",
       "      <th>trends</th>\n",
       "    </tr>\n",
       "  </thead>\n",
       "  <tbody>\n",
       "    <tr>\n",
       "      <th>answer</th>\n",
       "      <td>Ubisoft</td>\n",
       "      <td>Ubisoft reported a solid start to fiscal year ...</td>\n",
       "      <td>Ubisoft's IFRS 15 sales for Q1 2024-25 were €3...</td>\n",
       "      <td>The report does not provide specific figures f...</td>\n",
       "      <td>The report does not provide detailed expense f...</td>\n",
       "      <td>Ubisoft expects growing non-IFRS Cash Flow fro...</td>\n",
       "      <td>The report does not provide specific details o...</td>\n",
       "      <td>For the second quarter of 2024-25, Ubisoft exp...</td>\n",
       "      <td>Digital net bookings for Q1 2024-25 were €257....</td>\n",
       "      <td>Ubisoft's net bookings showed an upward trend,...</td>\n",
       "    </tr>\n",
       "    <tr>\n",
       "      <th>source</th>\n",
       "      <td>Paris, July 18, 2024 – Today, Ubisoft released...</td>\n",
       "      <td>In €m Q1 2024-25 Reported change vs. Q1 2023-2...</td>\n",
       "      <td>IFRS 15 sales for the first quarter of 2024-25...</td>\n",
       "      <td>The Company confirms its financial targets. It...</td>\n",
       "      <td>The context does not specify any expense detai...</td>\n",
       "      <td>The Company confirms its financial targets. It...</td>\n",
       "      <td>The context does not specify any balance sheet...</td>\n",
       "      <td>Net bookings for the second quarter of 2024-25...</td>\n",
       "      <td>Digital net bookings 257.2 +6.6% 88.7% 90.2%</td>\n",
       "      <td>Net bookings totaled €290.0 million, exceeding...</td>\n",
       "    </tr>\n",
       "    <tr>\n",
       "      <th>reasoning</th>\n",
       "      <td>The context explicitly mentions Ubisoft as the...</td>\n",
       "      <td>The summary captures the key financial perform...</td>\n",
       "      <td>This shows the year-over-year growth in revenu...</td>\n",
       "      <td>The context discusses expectations rather than...</td>\n",
       "      <td>No specific information on expenses is provide...</td>\n",
       "      <td>This indicates a positive outlook for cash flo...</td>\n",
       "      <td>No specific information on the balance sheet i...</td>\n",
       "      <td>The context provides specific forward guidance...</td>\n",
       "      <td>This metric highlights the digital segment's c...</td>\n",
       "      <td>The context indicates consistent growth in net...</td>\n",
       "    </tr>\n",
       "  </tbody>\n",
       "</table>\n",
       "</div>"
      ],
      "text/plain": [
       "                                         report_company_name  \\\n",
       "answer                                               Ubisoft   \n",
       "source     Paris, July 18, 2024 – Today, Ubisoft released...   \n",
       "reasoning  The context explicitly mentions Ubisoft as the...   \n",
       "\n",
       "                                              report_summary  \\\n",
       "answer     Ubisoft reported a solid start to fiscal year ...   \n",
       "source     In €m Q1 2024-25 Reported change vs. Q1 2023-2...   \n",
       "reasoning  The summary captures the key financial perform...   \n",
       "\n",
       "                                        revenue_and_earnings  \\\n",
       "answer     Ubisoft's IFRS 15 sales for Q1 2024-25 were €3...   \n",
       "source     IFRS 15 sales for the first quarter of 2024-25...   \n",
       "reasoning  This shows the year-over-year growth in revenu...   \n",
       "\n",
       "                                              profit_margins  \\\n",
       "answer     The report does not provide specific figures f...   \n",
       "source     The Company confirms its financial targets. It...   \n",
       "reasoning  The context discusses expectations rather than...   \n",
       "\n",
       "                                                    expenses  \\\n",
       "answer     The report does not provide detailed expense f...   \n",
       "source     The context does not specify any expense detai...   \n",
       "reasoning  No specific information on expenses is provide...   \n",
       "\n",
       "                                                   cash_flow  \\\n",
       "answer     Ubisoft expects growing non-IFRS Cash Flow fro...   \n",
       "source     The Company confirms its financial targets. It...   \n",
       "reasoning  This indicates a positive outlook for cash flo...   \n",
       "\n",
       "                                               balance_sheet  \\\n",
       "answer     The report does not provide specific details o...   \n",
       "source     The context does not specify any balance sheet...   \n",
       "reasoning  No specific information on the balance sheet i...   \n",
       "\n",
       "                                            forward_guidance  \\\n",
       "answer     For the second quarter of 2024-25, Ubisoft exp...   \n",
       "source     Net bookings for the second quarter of 2024-25...   \n",
       "reasoning  The context provides specific forward guidance...   \n",
       "\n",
       "                                                 key_metrics  \\\n",
       "answer     Digital net bookings for Q1 2024-25 were €257....   \n",
       "source          Digital net bookings 257.2 +6.6% 88.7% 90.2%   \n",
       "reasoning  This metric highlights the digital segment's c...   \n",
       "\n",
       "                                                      trends  \n",
       "answer     Ubisoft's net bookings showed an upward trend,...  \n",
       "source     Net bookings totaled €290.0 million, exceeding...  \n",
       "reasoning  The context indicates consistent growth in net...  "
      ]
     },
     "execution_count": 35,
     "metadata": {},
     "output_type": "execute_result"
    }
   ],
   "source": [
    "df = pd.DataFrame([structured_response.model_dump()])\n",
    "\n",
    "# Transforming into a table with two rows: 'answer' and 'source'\n",
    "answer_row = []\n",
    "source_row = []\n",
    "reasoning_row = []\n",
    "\n",
    "for col in df.columns:\n",
    "    answer_row.append(df[col][0]['answer'])\n",
    "    source_row.append(df[col][0]['sources'])\n",
    "    reasoning_row.append(df[col][0]['reasoning'])\n",
    "\n",
    "# Create new dataframe with two rows: 'answer' and 'source'\n",
    "structured_response_df = pd.DataFrame([answer_row, source_row, reasoning_row], columns=df.columns, index=['answer', 'source', 'reasoning'])\n",
    "structured_response_df"
   ]
  }
 ],
 "metadata": {
  "kernelspec": {
   "display_name": "myenv",
   "language": "python",
   "name": "python3"
  },
  "language_info": {
   "codemirror_mode": {
    "name": "ipython",
    "version": 3
   },
   "file_extension": ".py",
   "mimetype": "text/x-python",
   "name": "python",
   "nbconvert_exporter": "python",
   "pygments_lexer": "ipython3",
   "version": "3.12.6"
  }
 },
 "nbformat": 4,
 "nbformat_minor": 2
}
